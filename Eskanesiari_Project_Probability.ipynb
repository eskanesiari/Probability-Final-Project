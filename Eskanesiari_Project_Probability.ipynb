{
  "nbformat": 4,
  "nbformat_minor": 0,
  "metadata": {
    "colab": {
      "provenance": []
    },
    "kernelspec": {
      "name": "python3",
      "display_name": "Python 3"
    },
    "language_info": {
      "name": "python"
    }
  },
  "cells": [
    {
      "cell_type": "code",
      "execution_count": 3,
      "metadata": {
        "id": "047AkV_0Fn5B"
      },
      "outputs": [],
      "source": [
        "#import numpy, pandas\n",
        "import numpy as np\n",
        "import pandas as pd\n",
        "from scipy.stats import pearsonr\n",
        "import scipy.stats\n",
        "import statistics\n",
        "import matplotlib\n",
        "import matplotlib.pyplot as plt\n",
        "import matplotlib.patches as mpatches\n",
        "from matplotlib import style\n",
        "import seaborn as sns\n",
        "import plotly.express as px\n",
        "%matplotlib inline"
      ]
    },
    {
      "cell_type": "code",
      "source": [
        "#Read Data CSV\n",
        "data_csv=pd.read_csv('insurance.csv')\n",
        "data_csv"
      ],
      "metadata": {
        "colab": {
          "base_uri": "https://localhost:8080/",
          "height": 424
        },
        "id": "dUfSyt5zFrCU",
        "outputId": "9735b405-0510-4172-a863-6c5054cb9332"
      },
      "execution_count": 4,
      "outputs": [
        {
          "output_type": "execute_result",
          "data": {
            "text/plain": [
              "      age     sex     bmi  children smoker     region      charges\n",
              "0      19  female  27.900         0    yes  southwest  16884.92400\n",
              "1      18    male  33.770         1     no  southeast   1725.55230\n",
              "2      28    male  33.000         3     no  southeast   4449.46200\n",
              "3      33    male  22.705         0     no  northwest  21984.47061\n",
              "4      32    male  28.880         0     no  northwest   3866.85520\n",
              "...   ...     ...     ...       ...    ...        ...          ...\n",
              "1333   50    male  30.970         3     no  northwest  10600.54830\n",
              "1334   18  female  31.920         0     no  northeast   2205.98080\n",
              "1335   18  female  36.850         0     no  southeast   1629.83350\n",
              "1336   21  female  25.800         0     no  southwest   2007.94500\n",
              "1337   61  female  29.070         0    yes  northwest  29141.36030\n",
              "\n",
              "[1338 rows x 7 columns]"
            ],
            "text/html": [
              "\n",
              "  <div id=\"df-45e6568a-069d-4334-81cb-3527e939c9d8\">\n",
              "    <div class=\"colab-df-container\">\n",
              "      <div>\n",
              "<style scoped>\n",
              "    .dataframe tbody tr th:only-of-type {\n",
              "        vertical-align: middle;\n",
              "    }\n",
              "\n",
              "    .dataframe tbody tr th {\n",
              "        vertical-align: top;\n",
              "    }\n",
              "\n",
              "    .dataframe thead th {\n",
              "        text-align: right;\n",
              "    }\n",
              "</style>\n",
              "<table border=\"1\" class=\"dataframe\">\n",
              "  <thead>\n",
              "    <tr style=\"text-align: right;\">\n",
              "      <th></th>\n",
              "      <th>age</th>\n",
              "      <th>sex</th>\n",
              "      <th>bmi</th>\n",
              "      <th>children</th>\n",
              "      <th>smoker</th>\n",
              "      <th>region</th>\n",
              "      <th>charges</th>\n",
              "    </tr>\n",
              "  </thead>\n",
              "  <tbody>\n",
              "    <tr>\n",
              "      <th>0</th>\n",
              "      <td>19</td>\n",
              "      <td>female</td>\n",
              "      <td>27.900</td>\n",
              "      <td>0</td>\n",
              "      <td>yes</td>\n",
              "      <td>southwest</td>\n",
              "      <td>16884.92400</td>\n",
              "    </tr>\n",
              "    <tr>\n",
              "      <th>1</th>\n",
              "      <td>18</td>\n",
              "      <td>male</td>\n",
              "      <td>33.770</td>\n",
              "      <td>1</td>\n",
              "      <td>no</td>\n",
              "      <td>southeast</td>\n",
              "      <td>1725.55230</td>\n",
              "    </tr>\n",
              "    <tr>\n",
              "      <th>2</th>\n",
              "      <td>28</td>\n",
              "      <td>male</td>\n",
              "      <td>33.000</td>\n",
              "      <td>3</td>\n",
              "      <td>no</td>\n",
              "      <td>southeast</td>\n",
              "      <td>4449.46200</td>\n",
              "    </tr>\n",
              "    <tr>\n",
              "      <th>3</th>\n",
              "      <td>33</td>\n",
              "      <td>male</td>\n",
              "      <td>22.705</td>\n",
              "      <td>0</td>\n",
              "      <td>no</td>\n",
              "      <td>northwest</td>\n",
              "      <td>21984.47061</td>\n",
              "    </tr>\n",
              "    <tr>\n",
              "      <th>4</th>\n",
              "      <td>32</td>\n",
              "      <td>male</td>\n",
              "      <td>28.880</td>\n",
              "      <td>0</td>\n",
              "      <td>no</td>\n",
              "      <td>northwest</td>\n",
              "      <td>3866.85520</td>\n",
              "    </tr>\n",
              "    <tr>\n",
              "      <th>...</th>\n",
              "      <td>...</td>\n",
              "      <td>...</td>\n",
              "      <td>...</td>\n",
              "      <td>...</td>\n",
              "      <td>...</td>\n",
              "      <td>...</td>\n",
              "      <td>...</td>\n",
              "    </tr>\n",
              "    <tr>\n",
              "      <th>1333</th>\n",
              "      <td>50</td>\n",
              "      <td>male</td>\n",
              "      <td>30.970</td>\n",
              "      <td>3</td>\n",
              "      <td>no</td>\n",
              "      <td>northwest</td>\n",
              "      <td>10600.54830</td>\n",
              "    </tr>\n",
              "    <tr>\n",
              "      <th>1334</th>\n",
              "      <td>18</td>\n",
              "      <td>female</td>\n",
              "      <td>31.920</td>\n",
              "      <td>0</td>\n",
              "      <td>no</td>\n",
              "      <td>northeast</td>\n",
              "      <td>2205.98080</td>\n",
              "    </tr>\n",
              "    <tr>\n",
              "      <th>1335</th>\n",
              "      <td>18</td>\n",
              "      <td>female</td>\n",
              "      <td>36.850</td>\n",
              "      <td>0</td>\n",
              "      <td>no</td>\n",
              "      <td>southeast</td>\n",
              "      <td>1629.83350</td>\n",
              "    </tr>\n",
              "    <tr>\n",
              "      <th>1336</th>\n",
              "      <td>21</td>\n",
              "      <td>female</td>\n",
              "      <td>25.800</td>\n",
              "      <td>0</td>\n",
              "      <td>no</td>\n",
              "      <td>southwest</td>\n",
              "      <td>2007.94500</td>\n",
              "    </tr>\n",
              "    <tr>\n",
              "      <th>1337</th>\n",
              "      <td>61</td>\n",
              "      <td>female</td>\n",
              "      <td>29.070</td>\n",
              "      <td>0</td>\n",
              "      <td>yes</td>\n",
              "      <td>northwest</td>\n",
              "      <td>29141.36030</td>\n",
              "    </tr>\n",
              "  </tbody>\n",
              "</table>\n",
              "<p>1338 rows × 7 columns</p>\n",
              "</div>\n",
              "      <button class=\"colab-df-convert\" onclick=\"convertToInteractive('df-45e6568a-069d-4334-81cb-3527e939c9d8')\"\n",
              "              title=\"Convert this dataframe to an interactive table.\"\n",
              "              style=\"display:none;\">\n",
              "        \n",
              "  <svg xmlns=\"http://www.w3.org/2000/svg\" height=\"24px\"viewBox=\"0 0 24 24\"\n",
              "       width=\"24px\">\n",
              "    <path d=\"M0 0h24v24H0V0z\" fill=\"none\"/>\n",
              "    <path d=\"M18.56 5.44l.94 2.06.94-2.06 2.06-.94-2.06-.94-.94-2.06-.94 2.06-2.06.94zm-11 1L8.5 8.5l.94-2.06 2.06-.94-2.06-.94L8.5 2.5l-.94 2.06-2.06.94zm10 10l.94 2.06.94-2.06 2.06-.94-2.06-.94-.94-2.06-.94 2.06-2.06.94z\"/><path d=\"M17.41 7.96l-1.37-1.37c-.4-.4-.92-.59-1.43-.59-.52 0-1.04.2-1.43.59L10.3 9.45l-7.72 7.72c-.78.78-.78 2.05 0 2.83L4 21.41c.39.39.9.59 1.41.59.51 0 1.02-.2 1.41-.59l7.78-7.78 2.81-2.81c.8-.78.8-2.07 0-2.86zM5.41 20L4 18.59l7.72-7.72 1.47 1.35L5.41 20z\"/>\n",
              "  </svg>\n",
              "      </button>\n",
              "      \n",
              "  <style>\n",
              "    .colab-df-container {\n",
              "      display:flex;\n",
              "      flex-wrap:wrap;\n",
              "      gap: 12px;\n",
              "    }\n",
              "\n",
              "    .colab-df-convert {\n",
              "      background-color: #E8F0FE;\n",
              "      border: none;\n",
              "      border-radius: 50%;\n",
              "      cursor: pointer;\n",
              "      display: none;\n",
              "      fill: #1967D2;\n",
              "      height: 32px;\n",
              "      padding: 0 0 0 0;\n",
              "      width: 32px;\n",
              "    }\n",
              "\n",
              "    .colab-df-convert:hover {\n",
              "      background-color: #E2EBFA;\n",
              "      box-shadow: 0px 1px 2px rgba(60, 64, 67, 0.3), 0px 1px 3px 1px rgba(60, 64, 67, 0.15);\n",
              "      fill: #174EA6;\n",
              "    }\n",
              "\n",
              "    [theme=dark] .colab-df-convert {\n",
              "      background-color: #3B4455;\n",
              "      fill: #D2E3FC;\n",
              "    }\n",
              "\n",
              "    [theme=dark] .colab-df-convert:hover {\n",
              "      background-color: #434B5C;\n",
              "      box-shadow: 0px 1px 3px 1px rgba(0, 0, 0, 0.15);\n",
              "      filter: drop-shadow(0px 1px 2px rgba(0, 0, 0, 0.3));\n",
              "      fill: #FFFFFF;\n",
              "    }\n",
              "  </style>\n",
              "\n",
              "      <script>\n",
              "        const buttonEl =\n",
              "          document.querySelector('#df-45e6568a-069d-4334-81cb-3527e939c9d8 button.colab-df-convert');\n",
              "        buttonEl.style.display =\n",
              "          google.colab.kernel.accessAllowed ? 'block' : 'none';\n",
              "\n",
              "        async function convertToInteractive(key) {\n",
              "          const element = document.querySelector('#df-45e6568a-069d-4334-81cb-3527e939c9d8');\n",
              "          const dataTable =\n",
              "            await google.colab.kernel.invokeFunction('convertToInteractive',\n",
              "                                                     [key], {});\n",
              "          if (!dataTable) return;\n",
              "\n",
              "          const docLinkHtml = 'Like what you see? Visit the ' +\n",
              "            '<a target=\"_blank\" href=https://colab.research.google.com/notebooks/data_table.ipynb>data table notebook</a>'\n",
              "            + ' to learn more about interactive tables.';\n",
              "          element.innerHTML = '';\n",
              "          dataTable['output_type'] = 'display_data';\n",
              "          await google.colab.output.renderOutput(dataTable, element);\n",
              "          const docLink = document.createElement('div');\n",
              "          docLink.innerHTML = docLinkHtml;\n",
              "          element.appendChild(docLink);\n",
              "        }\n",
              "      </script>\n",
              "    </div>\n",
              "  </div>\n",
              "  "
            ]
          },
          "metadata": {},
          "execution_count": 4
        }
      ]
    },
    {
      "cell_type": "markdown",
      "source": [
        "Step #1 Descriptive Statics"
      ],
      "metadata": {
        "id": "HrYl7uUvGKs_"
      }
    },
    {
      "cell_type": "code",
      "source": [
        "#1. Mean and Median from Age\n",
        "mean_age = data_csv['age'].mean()\n",
        "median_age = data_csv['age'].median()\n",
        "print(\"Mean:\", mean_age)\n",
        "print(\"Median:\", median_age)\n",
        "print(\"========================\")\n",
        "sns.histplot(data=data_csv, x=\"age\", stat=\"count\", color=\"navy\")\n",
        "plt.axvline(x=data_csv['age'].mean(),color='red')\n",
        "plt.axvline(x=data_csv['age'].median(),color='green')\n",
        "plt.legend(['Mean','Median'])\n",
        "plt.show()"
      ],
      "metadata": {
        "colab": {
          "base_uri": "https://localhost:8080/",
          "height": 334
        },
        "id": "jiHrH8b4GNo9",
        "outputId": "22045fe0-fcc9-4d1f-8cd2-5939cf10ead0"
      },
      "execution_count": 5,
      "outputs": [
        {
          "output_type": "stream",
          "name": "stdout",
          "text": [
            "Mean: 39.20702541106129\n",
            "Median: 39.0\n",
            "========================\n"
          ]
        },
        {
          "output_type": "display_data",
          "data": {
            "text/plain": [
              "<Figure size 432x288 with 1 Axes>"
            ],
            "image/png": "[encoded data removed]"
          },
          "metadata": {
            "needs_background": "light"
          }
        }
      ]
    },
    {
      "cell_type": "code",
      "source": [
        "#2. Mean and Median from Charges\n",
        "mean_charges = data_csv['charges'].mean()\n",
        "median_charges = data_csv['charges'].median()\n",
        "print(\"Mean:\", mean_charges)\n",
        "print(\"Median:\", median_charges)\n",
        "print(\"========================\")\n",
        "sns.histplot(data=data_csv, x=\"charges\", stat=\"count\", color=\"navy\")\n",
        "plt.axvline(x=data_csv['charges'].mean(),color='red')\n",
        "plt.axvline(x=data_csv['charges'].median(),color='green')\n",
        "plt.legend(['Mean','Median'])\n",
        "plt.show()"
      ],
      "metadata": {
        "colab": {
          "base_uri": "https://localhost:8080/",
          "height": 334
        },
        "id": "EO2GUZcL7u0q",
        "outputId": "bcf23d09-d798-46e9-906d-8e05ad9e8291"
      },
      "execution_count": 6,
      "outputs": [
        {
          "output_type": "stream",
          "name": "stdout",
          "text": [
            "Mean: 13270.422265141257\n",
            "Median: 9382.033\n",
            "========================\n"
          ]
        },
        {
          "output_type": "display_data",
          "data": {
            "text/plain": [
              "<Figure size 432x288 with 1 Axes>"
            ],
            "image/png": "[encoded data removed]"
          },
          "metadata": {
            "needs_background": "light"
          }
        }
      ]
    },
    {
      "cell_type": "code",
      "source": [
        "#3. Mean of BMI Smoker and BMI Non Smoker\n",
        "bmi_smoker = data_csv[data_csv.smoker == 'yes']['bmi'].mean()\n",
        "bmi_nonsmoker = data_csv[data_csv.smoker == 'no']['bmi'].mean()\n",
        "print(\"BMI Smoker:\", bmi_smoker)\n",
        "print(\"BMI Non Smoker:\", bmi_nonsmoker)\n",
        "print(\"========================\")\n",
        "sns.barplot(data=data_csv, x = \"smoker\", y = \"bmi\")\n",
        "plt.show()"
      ],
      "metadata": {
        "colab": {
          "base_uri": "https://localhost:8080/",
          "height": 334
        },
        "id": "rC5Xta7X81hD",
        "outputId": "d9371627-03fb-4c2f-b6e2-d92414bd2cc3"
      },
      "execution_count": 7,
      "outputs": [
        {
          "output_type": "stream",
          "name": "stdout",
          "text": [
            "BMI Smoker: 30.70844890510949\n",
            "BMI Non Smoker: 30.651795112781954\n",
            "========================\n"
          ]
        },
        {
          "output_type": "display_data",
          "data": {
            "text/plain": [
              "<Figure size 432x288 with 1 Axes>"
            ],
            "image/png": "[encoded data removed]"
          },
          "metadata": {
            "needs_background": "light"
          }
        }
      ]
    },
    {
      "cell_type": "code",
      "source": [
        "#4. Mean of BMI Female and BMI Male\n",
        "bmi_female = data_csv[data_csv.sex == 'female']['bmi'].mean()\n",
        "bmi_male = data_csv[data_csv.sex == 'male']['bmi'].mean()\n",
        "print(\"BMI Female:\", bmi_female)\n",
        "print(\"BMI Male:\", bmi_male)\n",
        "print(\"========================\")\n",
        "sns.barplot(data=data_csv, x = \"sex\", y = \"bmi\")\n",
        "plt.show()"
      ],
      "metadata": {
        "colab": {
          "base_uri": "https://localhost:8080/",
          "height": 334
        },
        "id": "-3ILy8zrFr3G",
        "outputId": "20f74345-5dad-4ee3-e423-2b095cfe6728"
      },
      "execution_count": 9,
      "outputs": [
        {
          "output_type": "stream",
          "name": "stdout",
          "text": [
            "BMI Female: 30.37774924471299\n",
            "BMI Male: 30.943128698224854\n",
            "========================\n"
          ]
        },
        {
          "output_type": "display_data",
          "data": {
            "text/plain": [
              "<Figure size 432x288 with 1 Axes>"
            ],
            "image/png": "[encoded data removed]"
          },
          "metadata": {
            "needs_background": "light"
          }
        }
      ]
    },
    {
      "cell_type": "code",
      "source": [
        "#5. Mean of Age Smoker and Age Non Smoker\n",
        "age_smoker = data_csv[data_csv.smoker == 'yes']['age'].mean()\n",
        "age_nonsmoker = data_csv[data_csv.smoker == 'no']['age'].mean()\n",
        "print(\"Age Smoker:\", age_smoker)\n",
        "print(\"Age Non Smoker:\", age_nonsmoker)\n",
        "print(\"========================\")\n",
        "sns.barplot(data=data_csv, x = \"smoker\", y = \"age\")\n",
        "plt.show()"
      ],
      "metadata": {
        "colab": {
          "base_uri": "https://localhost:8080/",
          "height": 334
        },
        "id": "eL11vRdTAMdd",
        "outputId": "607370dd-794f-4656-f180-354a0f664ad5"
      },
      "execution_count": 10,
      "outputs": [
        {
          "output_type": "stream",
          "name": "stdout",
          "text": [
            "Age Smoker: 38.51459854014598\n",
            "Age Non Smoker: 39.38533834586466\n",
            "========================\n"
          ]
        },
        {
          "output_type": "display_data",
          "data": {
            "text/plain": [
              "<Figure size 432x288 with 1 Axes>"
            ],
            "image/png": "[encoded data removed]"
          },
          "metadata": {
            "needs_background": "light"
          }
        }
      ]
    },
    {
      "cell_type": "code",
      "source": [
        "#6. Mean of Age Female and Age Male\n",
        "age_female = data_csv[data_csv.sex == 'female']['age'].mean()\n",
        "age_male = data_csv[data_csv.sex == 'male']['age'].mean()\n",
        "print(\"Age Female:\", age_female)\n",
        "print(\"Age Male:\", age_male)\n",
        "print(\"========================\")\n",
        "sns.barplot(data=data_csv, x = \"sex\", y = \"age\")\n",
        "plt.show()"
      ],
      "metadata": {
        "colab": {
          "base_uri": "https://localhost:8080/",
          "height": 334
        },
        "id": "PB79AVN_BCwm",
        "outputId": "a26f9e8a-04c7-4a51-f699-618a9fd00c5d"
      },
      "execution_count": 11,
      "outputs": [
        {
          "output_type": "stream",
          "name": "stdout",
          "text": [
            "Age Female: 39.503021148036254\n",
            "Age Male: 38.917159763313606\n",
            "========================\n"
          ]
        },
        {
          "output_type": "display_data",
          "data": {
            "text/plain": [
              "<Figure size 432x288 with 1 Axes>"
            ],
            "image/png": "[encoded data removed]"
          },
          "metadata": {
            "needs_background": "light"
          }
        }
      ]
    },
    {
      "cell_type": "code",
      "source": [
        "#7. Is the Mean of Age Female & Male Smoker same with the Mean of Age Female and Male Non Smoker?\n",
        "\n",
        "#Age of Female and Male Smoker\n",
        "age_female_smoker=data_csv[(data_csv.smoker == 'yes')&(data_csv.sex=='female')]['age'].mean()\n",
        "age_male_smoker=data_csv[(data_csv.smoker == 'yes')&(data_csv.sex=='male')]['age'].mean()\n",
        "print(\"Age Female Smoker:\", age_female_smoker)\n",
        "print(\"Age Male Smoker:\" , age_male_smoker)\n",
        "\n",
        "#Age of Female and Male Non Smoker\n",
        "age_female_nonsmoker=data_csv[(data_csv.smoker == 'no')&(data_csv.sex=='female')]['age'].mean()\n",
        "age_male_nonsmoker=data_csv[(data_csv.smoker == 'no')&(data_csv.sex=='male')]['age'].mean()\n",
        "print(\"Age Female Non Smoker:\", age_female_nonsmoker)\n",
        "print(\"Age Male Non Smoker:\" , age_male_nonsmoker)\n",
        "\n",
        "print(\"========================\")\n",
        "sns.barplot(data=data_csv, x = \"smoker\", y = \"age\", hue = \"sex\")\n",
        "plt.show()"
      ],
      "metadata": {
        "colab": {
          "base_uri": "https://localhost:8080/",
          "height": 370
        },
        "id": "G90LYpn6Gi-9",
        "outputId": "ff2f0fb0-4f83-4086-83bd-c1580739d0c7"
      },
      "execution_count": 12,
      "outputs": [
        {
          "output_type": "stream",
          "name": "stdout",
          "text": [
            "Age Female Smoker: 38.608695652173914\n",
            "Age Male Smoker: 38.44654088050314\n",
            "Age Female Non Smoker: 39.691042047531994\n",
            "Age Male Non Smoker: 39.06189555125725\n",
            "========================\n"
          ]
        },
        {
          "output_type": "display_data",
          "data": {
            "text/plain": [
              "<Figure size 432x288 with 1 Axes>"
            ],
            "image/png": "[encoded data removed]"
          },
          "metadata": {
            "needs_background": "light"
          }
        }
      ]
    },
    {
      "cell_type": "code",
      "source": [
        "#8. Which one is higher, the Mean of Smoker Charges or Non Smoker Charges?\n",
        "\n",
        "charges_smoker=data_csv[data_csv.smoker =='yes']['charges'].mean()\n",
        "charges_nonsmoker=data_csv[data_csv.smoker =='no']['charges'].mean()\n",
        "print(\"Charges for Smoker: \", charges_smoker)\n",
        "print(\"Charges for Non Smoker: \", charges_nonsmoker)\n",
        "\n",
        "print(\"========================\")\n",
        "sns.barplot(data=data_csv, x = \"smoker\", y = \"charges\")\n",
        "plt.show()"
      ],
      "metadata": {
        "colab": {
          "base_uri": "https://localhost:8080/",
          "height": 338
        },
        "id": "4ifsN0Z_NaBG",
        "outputId": "469a8851-76c8-41fa-a698-f1e10a0544c1"
      },
      "execution_count": 13,
      "outputs": [
        {
          "output_type": "stream",
          "name": "stdout",
          "text": [
            "Charges for Smoker:  32050.23183153284\n",
            "Charges for Non Smoker:  8434.268297856204\n",
            "========================\n"
          ]
        },
        {
          "output_type": "display_data",
          "data": {
            "text/plain": [
              "<Figure size 432x288 with 1 Axes>"
            ],
            "image/png": "[encoded data removed]"
          },
          "metadata": {
            "needs_background": "light"
          }
        }
      ]
    },
    {
      "cell_type": "code",
      "source": [
        "#9. Which one is higher, the Mean of Female and MaleSmoker Charges or Female and Male Non Smoker Charges?\n",
        "\n",
        "# Female and Male Charges Smoker\n",
        "charges_female_smoker=data_csv[(data_csv.smoker == 'yes')&(data_csv.sex=='female')]['charges'].mean()\n",
        "charges_male_smoker=data_csv[(data_csv.smoker == 'yes')&(data_csv.sex=='male')]['charges'].mean()\n",
        "print(\"Charges for Female Smoker:\", charges_female_smoker)\n",
        "print(\"Charges for Male Smoker:\" , charges_male_smoker)\n",
        "\n",
        "# Female and Male Charges Non Smoker\n",
        "charges_female_nonsmoker=data_csv[(data_csv.smoker == 'no')&(data_csv.sex=='female')]['charges'].mean()\n",
        "charges_male_nonsmoker=data_csv[(data_csv.smoker == 'no')&(data_csv.sex=='male')]['charges'].mean()\n",
        "print(\"Charges for Female Non Smoker:\", charges_female_nonsmoker)\n",
        "print(\"Charges for Male Non Smoker:\" , charges_male_nonsmoker)\n",
        "\n",
        "print(\"========================\")\n",
        "sns.barplot(data=data_csv, x = \"smoker\", y = \"charges\", hue = \"sex\")\n",
        "plt.show()"
      ],
      "metadata": {
        "colab": {
          "base_uri": "https://localhost:8080/",
          "height": 370
        },
        "id": "FvOglyW3OSIu",
        "outputId": "86ac240f-6c76-40c5-bdca-b51aca3ec0a9"
      },
      "execution_count": 14,
      "outputs": [
        {
          "output_type": "stream",
          "name": "stdout",
          "text": [
            "Charges for Female Smoker: 30678.996276260867\n",
            "Charges for Male Smoker: 33042.00597528303\n",
            "Charges for Female Non Smoker: 8762.297299541133\n",
            "Charges for Male Non Smoker: 8087.204731276595\n",
            "========================\n"
          ]
        },
        {
          "output_type": "display_data",
          "data": {
            "text/plain": [
              "<Figure size 432x288 with 1 Axes>"
            ],
            "image/png": "[encoded data removed]"
          },
          "metadata": {
            "needs_background": "light"
          }
        }
      ]
    },
    {
      "cell_type": "markdown",
      "source": [
        "Step #2 Analisys Variabel Kategorik (PMF)"
      ],
      "metadata": {
        "id": "-bVsWlLzP9U2"
      }
    },
    {
      "cell_type": "code",
      "source": [
        "#1. Which Gender who has higher chages?\n",
        "\n",
        "charges_female=data_csv[data_csv.sex =='female']['charges'].mean()\n",
        "charges_male=data_csv[data_csv.sex =='male']['charges'].mean()\n",
        "print(\"Charges for Female: \", charges_female)\n",
        "print(\"Charges for Male: \", charges_male)\n",
        "print(\"========================\")\n",
        "sns.barplot(data=data_csv, x = \"sex\", y = \"charges\")\n",
        "plt.show()\n",
        "\n",
        "print(\"========================\")\n",
        "female_smoker=data_csv[(data_csv.smoker == 'yes')&(data_csv.sex=='female')]['smoker'].count()\n",
        "male_smoker=data_csv[(data_csv.smoker == 'yes')&(data_csv.sex=='male')]['smoker'].count()\n",
        "print(\"Female Smoker: \", female_smoker)\n",
        "print(\"Male Smoker: \", male_smoker)\n",
        "print(\"========================\")\n",
        "sns.histplot(data=data_csv, x=\"sex\", hue = \"smoker\", stat=\"count\")\n",
        "plt.show()"
      ],
      "metadata": {
        "colab": {
          "base_uri": "https://localhost:8080/",
          "height": 669
        },
        "id": "6VV8LEtdSu2S",
        "outputId": "e03d8728-353a-47c6-90cd-ce847cd315c4"
      },
      "execution_count": 15,
      "outputs": [
        {
          "output_type": "stream",
          "name": "stdout",
          "text": [
            "Charges for Female:  12569.578843835347\n",
            "Charges for Male:  13956.751177721893\n",
            "========================\n"
          ]
        },
        {
          "output_type": "display_data",
          "data": {
            "text/plain": [
              "<Figure size 432x288 with 1 Axes>"
            ],
            "image/png": "[encoded data removed]"
          },
          "metadata": {
            "needs_background": "light"
          }
        },
        {
          "output_type": "stream",
          "name": "stdout",
          "text": [
            "========================\n",
            "Female Smoker:  115\n",
            "Male Smoker:  159\n",
            "========================\n"
          ]
        },
        {
          "output_type": "display_data",
          "data": {
            "text/plain": [
              "<Figure size 432x288 with 1 Axes>"
            ],
            "image/png": "[encoded data removed]"
          },
          "metadata": {
            "needs_background": "light"
          }
        }
      ]
    },
    {
      "cell_type": "code",
      "source": [
        "#2. Is every region has same people proportion?\n",
        "\n",
        "#Southwest\n",
        "SW=data_csv[data_csv.region =='southwest']['region'].count()\n",
        "print(\"Southwest: \", SW)\n",
        "#Southeast\n",
        "SE=data_csv[data_csv.region =='southeast']['region'].count()\n",
        "print(\"Southeast: \", SE)\n",
        "#Northwest\n",
        "NW=data_csv[data_csv.region =='northwest']['region'].count()\n",
        "print(\"Northwest: \", NW)\n",
        "#Northeast\n",
        "NE=data_csv[data_csv.region =='northeast']['region'].count()\n",
        "print(\"Northeast: \", NE)\n",
        "print(\"========================\")\n",
        "\n",
        "#Total\n",
        "SUM=NE+NW+SE+SW\n",
        "print(\"Total all region:\", SUM)\n",
        "print(\"========================\")\n",
        "\n",
        "#Proportion SW\n",
        "prop_SW=SW/SUM\n",
        "print(\"Proportion of Southwest: \", prop_SW)\n",
        "#Proportion SE\n",
        "prop_SE=SE/SUM\n",
        "print(\"Proportion of Southeast: \", prop_SE)\n",
        "#Proportio NW\n",
        "prop_NW=NW/SUM\n",
        "print(\"Proportion of Northwest: \", prop_NW)\n",
        "#Proportio NE\n",
        "prop_NE=NE/SUM\n",
        "print(\"Proportion of Northeast: \", prop_NE)\n",
        "print(\"========================\")\n",
        "\n",
        "sns.histplot(data=data_csv, x=\"region\", hue = \"region\", stat= \"proportion\", legend= None)\n",
        "plt.show()"
      ],
      "metadata": {
        "colab": {
          "base_uri": "https://localhost:8080/",
          "height": 498
        },
        "id": "qsLasxwIXYYL",
        "outputId": "7f592c84-d4d3-4c34-f30f-73bcdff430bd"
      },
      "execution_count": 16,
      "outputs": [
        {
          "output_type": "stream",
          "name": "stdout",
          "text": [
            "Southwest:  325\n",
            "Southeast:  364\n",
            "Northwest:  325\n",
            "Northeast:  324\n",
            "========================\n",
            "Total all region: 1338\n",
            "========================\n",
            "Proportion of Southwest:  0.2428998505231689\n",
            "Proportion of Southeast:  0.27204783258594917\n",
            "Proportion of Northwest:  0.2428998505231689\n",
            "Proportion of Northeast:  0.242152466367713\n",
            "========================\n"
          ]
        },
        {
          "output_type": "display_data",
          "data": {
            "text/plain": [
              "<Figure size 432x288 with 1 Axes>"
            ],
            "image/png": "[encoded data removed]"
          },
          "metadata": {
            "needs_background": "light"
          }
        }
      ]
    },
    {
      "cell_type": "code",
      "source": [
        "#3. Which one is has higher proportion? Smoker or Non Smoker?\n",
        "\n",
        "#Total Smoker\n",
        "smoker=data_csv[data_csv.smoker =='yes']['smoker'].count()\n",
        "print(\"Smoker: \", smoker)\n",
        "\n",
        "#Total Non Smoker\n",
        "nonsmoker=data_csv[data_csv.smoker =='no']['smoker'].count()\n",
        "print(\"Non Smoker:\", nonsmoker)\n",
        "\n",
        "#Proportion of Smoker\n",
        "prop_smoker=smoker/(smoker+nonsmoker)\n",
        "print(\"Proportion of Smoker:\", prop_smoker)\n",
        "\n",
        "#Proportion of Non Smoker\n",
        "prop_nonsmoker=nonsmoker/(smoker+nonsmoker)\n",
        "print(\"Proportion of Non Smoker:\", prop_nonsmoker)\n",
        "print(\"========================\")\n",
        "\n",
        "sns.histplot(data=data_csv, x=\"smoker\", hue = \"smoker\", stat= \"proportion\", legend= None)\n",
        "plt.show()"
      ],
      "metadata": {
        "colab": {
          "base_uri": "https://localhost:8080/",
          "height": 370
        },
        "id": "C7cbLzI0sbBG",
        "outputId": "2bb0c301-fd9e-4d80-fd32-c16b8c01b4bd"
      },
      "execution_count": 17,
      "outputs": [
        {
          "output_type": "stream",
          "name": "stdout",
          "text": [
            "Smoker:  274\n",
            "Non Smoker: 1064\n",
            "Proportion of Smoker: 0.20478325859491778\n",
            "Proportion of Non Smoker: 0.7952167414050823\n",
            "========================\n"
          ]
        },
        {
          "output_type": "display_data",
          "data": {
            "text/plain": [
              "<Figure size 432x288 with 1 Axes>"
            ],
            "image/png": "[encoded data removed]"
          },
          "metadata": {
            "needs_background": "light"
          }
        }
      ]
    },
    {
      "cell_type": "code",
      "source": [
        "#4. How much the probability of Female Smoker if known as Smoker?\n",
        "\n",
        "#Total Sample\n",
        "sample_space=data_csv['smoker'].count()\n",
        "print(\"Total Sample (Smoke and Non Smoke): \", sample_space)\n",
        "\n",
        "#Total Smoker\n",
        "smoker=data_csv[data_csv.smoker =='yes']['smoker'].count()\n",
        "print(\"Smoker: \", smoker)\n",
        "\n",
        "#Probability Smoker\n",
        "prob_smoker=smoker/sample_space\n",
        "print(\"Probability Smoker: \", prob_smoker) #probability smoker\n",
        "sns.histplot(data=data_csv, x=\"smoker\", hue = \"smoker\", stat= \"probability\", legend= None)\n",
        "plt.show()\n",
        "print(\"========================\")\n",
        "\n",
        "#Total Sample\n",
        "sample_space=data_csv['smoker'].count()\n",
        "print(\"Total Sample (Smoke and Non Smoke): \", sample_space)\n",
        "\n",
        "#Female Smoker\n",
        "female_smoker=data_csv[(data_csv.smoker == 'yes')&(data_csv.sex=='female')]['smoker'].count()\n",
        "print(\"Female Smoker: \", female_smoker)\n",
        "\n",
        "#Probability Female Smoker\n",
        "prob_female_smoker=female_smoker/sample_space\n",
        "print(\"Probability Female Smoker: \", prob_female_smoker) # probability male smoker di smoker nosmoker\n",
        "print(\"========================\")\n",
        "\n",
        "#Probability if Female Smoker known as Smoker\n",
        "print(\"Probability Female Smoker: \", prob_female_smoker)\n",
        "print(\"Probability Smoker: \", prob_smoker)\n",
        "prob_female_smoker_on_smoker=prob_female_smoker/prob_smoker\n",
        "print(\"Probability Female Smoker If Smoke: \", prob_female_smoker_on_smoker)"
      ],
      "metadata": {
        "colab": {
          "base_uri": "https://localhost:8080/",
          "height": 480
        },
        "id": "mDOHhw18x8J6",
        "outputId": "79164faf-5cb7-4932-e82f-6587074991cd"
      },
      "execution_count": 18,
      "outputs": [
        {
          "output_type": "stream",
          "name": "stdout",
          "text": [
            "Total Sample (Smoke and Non Smoke):  1338\n",
            "Smoker:  274\n",
            "Probability Smoker:  0.20478325859491778\n"
          ]
        },
        {
          "output_type": "display_data",
          "data": {
            "text/plain": [
              "<Figure size 432x288 with 1 Axes>"
            ],
            "image/png": "[encoded data removed]"
          },
          "metadata": {
            "needs_background": "light"
          }
        },
        {
          "output_type": "stream",
          "name": "stdout",
          "text": [
            "========================\n",
            "Total Sample (Smoke and Non Smoke):  1338\n",
            "Female Smoker:  115\n",
            "Probability Female Smoker:  0.08594917787742899\n",
            "========================\n",
            "Probability Female Smoker:  0.08594917787742899\n",
            "Probability Smoker:  0.20478325859491778\n",
            "Probability Female Smoker If Smoke:  0.4197080291970803\n"
          ]
        }
      ]
    },
    {
      "cell_type": "code",
      "source": [
        "#5. How much the probability of Male Smoker if known as Smoker?\n",
        "\n",
        "#Total Sample\n",
        "sample_space=data_csv['smoker'].count()\n",
        "print(\"Total Sample (Smoke and Non Smoke): \", sample_space)\n",
        "\n",
        "#Total Smoker\n",
        "smoker=data_csv[data_csv.smoker =='yes']['smoker'].count()\n",
        "print(\"Smoker: \", smoker)\n",
        "\n",
        "#Probability Smoker\n",
        "prob_smoker=smoker/sample_space\n",
        "print(\"Probability Smoker: \", prob_smoker) #probability smoker\n",
        "sns.histplot(data=data_csv, x=\"smoker\", hue = \"smoker\", stat= \"probability\", legend= None)\n",
        "plt.show()\n",
        "print(\"========================\")\n",
        "\n",
        "#Total Sample\n",
        "sample_space=data_csv['smoker'].count()\n",
        "print(\"Total Sample (Smoke and Non Smoke): \", sample_space)\n",
        "\n",
        "#Male Smoker\n",
        "male_smoker=data_csv[(data_csv.smoker == 'yes')&(data_csv.sex=='male')]['smoker'].count()\n",
        "print(\"Male Smoker: \", male_smoker)\n",
        "\n",
        "#Probability Male Smoker\n",
        "prob_male_smoker=male_smoker/sample_space\n",
        "print(\"Probability Male Smoker: \", prob_male_smoker) # probability male smoker di smoker nosmoker\n",
        "print(\"========================\")\n",
        "\n",
        "#Probability if Male Smoker known as Smoker\n",
        "print(\"Probability Male Smoker: \", prob_male_smoker)\n",
        "print(\"Probability Smoker: \", prob_smoker)\n",
        "prob_male_smoker_on_smoker=prob_male_smoker/prob_smoker\n",
        "print(\"Probability Male Smoker If Smoke: \", prob_male_smoker_on_smoker)\n"
      ],
      "metadata": {
        "colab": {
          "base_uri": "https://localhost:8080/",
          "height": 480
        },
        "id": "wi2szw_G1kxG",
        "outputId": "d32d8b15-aeb8-4ef7-9f8b-71f775501266"
      },
      "execution_count": null,
      "outputs": [
        {
          "output_type": "stream",
          "name": "stdout",
          "text": [
            "Total Sample (Smoke and Non Smoke):  1338\n",
            "Smoker:  274\n",
            "Probability Smoker:  0.20478325859491778\n"
          ]
        },
        {
          "output_type": "display_data",
          "data": {
            "text/plain": [
              "<Figure size 432x288 with 1 Axes>"
            ],
            "image/png": "[encoded data removed]"
          },
          "metadata": {
            "needs_background": "light"
          }
        },
        {
          "output_type": "stream",
          "name": "stdout",
          "text": [
            "========================\n",
            "Total Sample (Smoke and Non Smoke):  1338\n",
            "Male Smoker:  159\n",
            "Probability Male Smoker:  0.11883408071748879\n",
            "========================\n",
            "Probability Male Smoker:  0.11883408071748879\n",
            "Probability Smoker:  0.20478325859491778\n",
            "Probability Male Smoker If Smoke:  0.5802919708029197\n"
          ]
        }
      ]
    },
    {
      "cell_type": "markdown",
      "source": [
        "Step #3 Analisys Variabel Kontinu (CDF)"
      ],
      "metadata": {
        "id": "7CeUpkRoG0u0"
      }
    },
    {
      "cell_type": "code",
      "source": [
        "#1. Which one is might be more happen??\n",
        "#a. Someone with BMI >25 and charges >$16700\n",
        "#b. Someone with BMI <25 and charges >$16700\n",
        "\n",
        "#Charges >$16700 and BMI >25\n",
        "charges=data_csv[(data_csv.charges >16700)&(data_csv.bmi >25)]['charges'].count()\n",
        "print(f\"Charges >$16700 and BMI >25 is {charges}\")\n",
        "\n",
        "#Charges >$16700\n",
        "charges_up=data_csv[(data_csv.charges >16700)]['charges'].count()\n",
        "print(f\"Charges >$16700 is {charges_up}\")\n",
        "\n",
        "#Probability of BM1 >25 and charges >$16700\n",
        "P1=charges/charges_up\n",
        "print(f\"Probability of someone who has BMI >25 and charges >$16700 is {P1}\")\n",
        "\n",
        "#Probability of BM1 <25 and charges >$16700\n",
        "P2=1-P1\n",
        "print(f\"Probability of someone who has BMI <25 and charges >$16700 is {P2}\")"
      ],
      "metadata": {
        "colab": {
          "base_uri": "https://localhost:8080/"
        },
        "id": "a6GtWm-eHL7R",
        "outputId": "35aa9d08-f745-482f-8d33-b4571e4d38ed"
      },
      "execution_count": 19,
      "outputs": [
        {
          "output_type": "stream",
          "name": "stdout",
          "text": [
            "Charges >$16700 and BMI >25 is 283\n",
            "Charges >$16700 is 334\n",
            "Probability of someone who has BMI >25 and charges >$16700 is 0.8473053892215568\n",
            "Probability of someone who has BMI <25 and charges >$16700 is 0.15269461077844315\n"
          ]
        }
      ]
    },
    {
      "cell_type": "code",
      "source": [
        "#2. Which one is might be more happen??\n",
        "#a. Smoker with BMI >25 and get charges >$16700\n",
        "#b. Non Smoker with BMI <25 and get charges >$16700\n",
        "\n",
        "#Smoker with BMI >25 and charges >$16700\n",
        "smoker_charges=data_csv[(data_csv.charges >16700)&(data_csv.bmi >25)&(data_csv.smoker == 'yes')]['charges'].count()\n",
        "print(f\"Smoker with charges >$16700 and BMI >25 is {smoker_charges} \")\n",
        "\n",
        "#Non Smoker with BMI >25 and charges >$16700\n",
        "nonsmoker_charges=data_csv[(data_csv.charges >16700)&(data_csv.bmi >25)]['charges'].count()\n",
        "print(f\"Non Smoker with charges >$16700 and BMI >25 is {nonsmoker_charges} \")\n",
        "\n",
        "#Probability of Smoker with BMI >25 and charges >$16700\n",
        "P1=smoker_charges/nonsmoker_charges\n",
        "print(f\"Probability of Smoker with BMI >25 and charges >$16700 is {P1}\")\n",
        "\n",
        "#Probability of Non Smoker with BMI >25 and charges >$16700\n",
        "P2=1-P1\n",
        "print(f\"Probability of Non Smoker with BMI >25 and charges >$16700 is {P2}\")"
      ],
      "metadata": {
        "colab": {
          "base_uri": "https://localhost:8080/"
        },
        "id": "2R_BZaZxHNGz",
        "outputId": "8c136949-3def-4268-d0d6-139bdf7c4e52"
      },
      "execution_count": 20,
      "outputs": [
        {
          "output_type": "stream",
          "name": "stdout",
          "text": [
            "Smoker with charges >$16700 and BMI >25 is 215 \n",
            "Non Smoker with charges >$16700 and BMI >25 is 283 \n",
            "Probability of Smoker with BMI >25 and charges >$16700 is 0.7597173144876325\n",
            "Probability of Non Smoker with BMI >25 and charges >$16700 is 0.24028268551236753\n"
          ]
        }
      ]
    },
    {
      "cell_type": "markdown",
      "source": [
        "Step #4 Analisys Korelasi Variabel"
      ],
      "metadata": {
        "id": "GEdKqmPeHfHB"
      }
    },
    {
      "cell_type": "code",
      "source": [
        "# Import those libraries\n",
        "import pandas as pd\n",
        "from scipy.stats import pearsonr\n",
        " \n",
        "# Read Data CSV\n",
        "df = pd.read_csv(\"insurance.csv\")\n",
        " \n",
        "# Convert dataframe into series\n",
        "list1 = df['charges']\n",
        "list2 = df['bmi']\n",
        " \n",
        "# Apply the pearsonr()\n",
        "corr= pearsonr(list1, list2)\n",
        "print(df.corr())\n",
        "print(f\"Pearsons correlation is: {corr}\")"
      ],
      "metadata": {
        "colab": {
          "base_uri": "https://localhost:8080/"
        },
        "id": "xHvz7aJ23Q3m",
        "outputId": "8efd902b-355f-488b-d7f9-115471e81b4f"
      },
      "execution_count": 21,
      "outputs": [
        {
          "output_type": "stream",
          "name": "stdout",
          "text": [
            "               age       bmi  children   charges\n",
            "age       1.000000  0.109272  0.042469  0.299008\n",
            "bmi       0.109272  1.000000  0.012759  0.198341\n",
            "children  0.042469  0.012759  1.000000  0.067998\n",
            "charges   0.299008  0.198341  0.067998  1.000000\n",
            "Pearsons correlation is: (0.1983409688336288, 2.459085535117846e-13)\n"
          ]
        }
      ]
    },
    {
      "cell_type": "markdown",
      "source": [
        "Step #5 Hipotesys Test"
      ],
      "metadata": {
        "id": "_3fc9O_D5j-6"
      }
    },
    {
      "cell_type": "markdown",
      "source": [
        "1. Charges of Smoker is higher than Charges of Non Smoker?"
      ],
      "metadata": {
        "id": "0ZfdmVGuf829"
      }
    },
    {
      "cell_type": "code",
      "source": [
        "#Kode F-Test\n",
        "def f_test(group1, group2):\n",
        "    f = group1.var(ddof=1)/group2.var(ddof=1)\n",
        "    nun = group1.size-1\n",
        "    dun = group2.size-1\n",
        "    p_value = 1-scipy.stats.f.cdf(f, nun, dun)\n",
        "    return f, p_value"
      ],
      "metadata": {
        "id": "-k-nB9WAgKRo"
      },
      "execution_count": 22,
      "outputs": []
    },
    {
      "cell_type": "code",
      "source": [
        "#New DataFrame for Smoker and Non Smoker\n",
        "\n",
        "#Data Smoker\n",
        "Smokers=data_csv[data_csv.smoker == 'yes']['charges']\n",
        "#Convert to Numpy\n",
        "Smokers=Smokers.to_numpy()\n",
        "\n",
        "#Data Non Smoker\n",
        "NonSmokers=data_csv[data_csv.smoker == 'no']['charges']\n",
        "#Convert to Numpy\n",
        "NonSmokers=NonSmokers.to_numpy()"
      ],
      "metadata": {
        "id": "X_F8i00EgAXv"
      },
      "execution_count": 23,
      "outputs": []
    },
    {
      "cell_type": "code",
      "source": [
        "#F-Test\n",
        "print(\"F-Test Smokers and Non Smokers: \", f_test(Smokers,NonSmokers))\n",
        "print(\"\\n\")\n",
        "print(\"From the result of F-TEST, value of F is 3.71 with P close to 0, so H0 is rejected because P value is less than 0.05.\")"
      ],
      "metadata": {
        "colab": {
          "base_uri": "https://localhost:8080/"
        },
        "id": "5ge-XknYgEDs",
        "outputId": "47c684d9-5fcf-4bb6-bfe1-65358fe2764c"
      },
      "execution_count": 24,
      "outputs": [
        {
          "output_type": "stream",
          "name": "stdout",
          "text": [
            "F-Test Smokers and Non Smokers:  (3.707884538770158, 1.1102230246251565e-16)\n",
            "\n",
            "\n",
            "From the result of F-TEST, value of F is 3.71 with P close to 0, so H0 is rejected because P value is less than 0.05.\n"
          ]
        }
      ]
    },
    {
      "cell_type": "code",
      "source": [
        "#T-Test\n",
        "Ttest=scipy.stats.ttest_ind(Smokers,NonSmokers, equal_var=False)\n",
        "print(Ttest)\n",
        "print(\"\\n\")\n",
        "print(\"From the result of T-TEST, value of T is 32.75 with P close to 0, so H0 is rejected because P value is less than 0.05.\")"
      ],
      "metadata": {
        "colab": {
          "base_uri": "https://localhost:8080/"
        },
        "id": "gwatOKFVgPE3",
        "outputId": "46f2c6b5-a55f-453c-d273-3627e49f6091"
      },
      "execution_count": 25,
      "outputs": [
        {
          "output_type": "stream",
          "name": "stdout",
          "text": [
            "Ttest_indResult(statistic=32.751887766341824, pvalue=5.88946444671698e-103)\n",
            "\n",
            "\n",
            "From the result of T-TEST, value of T is 32.75 with P close to 0, so H0 is rejected because P value is less than 0.05.\n"
          ]
        }
      ]
    },
    {
      "cell_type": "markdown",
      "source": [
        "2. Charges of BMI >25 is higher then Charges of BMI <25?"
      ],
      "metadata": {
        "id": "DFM0MSVwgRUy"
      }
    },
    {
      "cell_type": "code",
      "source": [
        "#New DataFRame for BMI >25 and BMI <25\n",
        "\n",
        "#Data BMI >25\n",
        "BMIhigh=data_csv[data_csv.bmi >25]['charges']\n",
        "#Convert to Numpy\n",
        "BMIhigh=BMIhigh.to_numpy()\n",
        "\n",
        "#Data BMI<25\n",
        "BMIlow=data_csv[data_csv.bmi <25]['charges']\n",
        "#Convert to Numpy\n",
        "BMIlow=BMIlow.to_numpy()"
      ],
      "metadata": {
        "id": "LdTjebkJgTNP"
      },
      "execution_count": 26,
      "outputs": []
    },
    {
      "cell_type": "code",
      "source": [
        "#F-Test\n",
        "print(\"F-Test BMI>25 and BMI<25: \", f_test(BMIhigh,BMIlow))\n",
        "print(\"\\n\")\n",
        "print(\"From the result of F-TEST, value of F is 2.91 with P close to 0, so H0 is rejected because P value is less than 0.05.\")"
      ],
      "metadata": {
        "colab": {
          "base_uri": "https://localhost:8080/"
        },
        "id": "JxdQXo2_gU5f",
        "outputId": "ed7f2df5-c913-4630-a378-0c91d657d4f5"
      },
      "execution_count": 27,
      "outputs": [
        {
          "output_type": "stream",
          "name": "stdout",
          "text": [
            "F-Test BMI>25 and BMI<25:  (2.912603553599597, 1.1102230246251565e-16)\n",
            "\n",
            "\n",
            "From the result of F-TEST, value of F is 2.91 with P close to 0, so H0 is rejected because P value is less than 0.05.\n"
          ]
        }
      ]
    },
    {
      "cell_type": "code",
      "source": [
        "#T-Test\n",
        "Ttest=scipy.stats.ttest_ind(BMIhigh,BMIlow, equal_var=False)\n",
        "print(Ttest)\n",
        "print(\"\\n\")\n",
        "print(\"From the result of T-TEST, value of T is 5.93 with P close to 0, so H0 is rejected because P value is less than 0.05.\")"
      ],
      "metadata": {
        "colab": {
          "base_uri": "https://localhost:8080/"
        },
        "id": "BAvJGVvdgXii",
        "outputId": "33d7ec08-8c18-4345-a357-4698a2ebfcaa"
      },
      "execution_count": 28,
      "outputs": [
        {
          "output_type": "stream",
          "name": "stdout",
          "text": [
            "Ttest_indResult(statistic=5.929878344096734, pvalue=5.080897303161378e-09)\n",
            "\n",
            "\n",
            "From the result of T-TEST, value of T is 5.93 with P close to 0, so H0 is rejected because P value is less than 0.05.\n"
          ]
        }
      ]
    },
    {
      "cell_type": "markdown",
      "source": [
        "3. Male Charges is higher then Female Charges?"
      ],
      "metadata": {
        "id": "v_Xd8FGDgalR"
      }
    },
    {
      "cell_type": "code",
      "source": [
        "#New DataFRame for Male and Female\n",
        "\n",
        "#Data Male\n",
        "Male=data_csv[data_csv.sex == 'male']['charges']\n",
        "#Convert to Numpy\n",
        "Male=Male.to_numpy()\n",
        "\n",
        "#Data Female\n",
        "Female=data_csv[data_csv.sex == 'female']['charges']\n",
        "#Convert to Numpy\n",
        "Female=Female.to_numpy()"
      ],
      "metadata": {
        "id": "8o3TDR7tgb5V"
      },
      "execution_count": 29,
      "outputs": []
    },
    {
      "cell_type": "code",
      "source": [
        "#F-Test\n",
        "print(\"F-Test Male and Female: \", f_test(Male,Female))\n",
        "print(\"\\n\")\n",
        "print(\"From the result of F-TEST, value of F is 1.36 with P close to 0, so H0 is rejected because P value is less than 0.05.\")"
      ],
      "metadata": {
        "colab": {
          "base_uri": "https://localhost:8080/"
        },
        "id": "14W72DUIgh8A",
        "outputId": "1fb8d048-6a63-4551-d9eb-cca21dbcecad"
      },
      "execution_count": null,
      "outputs": [
        {
          "output_type": "stream",
          "name": "stdout",
          "text": [
            "F-Test Male and Female:  (1.3584995130182387, 3.947797030812161e-05)\n",
            "\n",
            "\n",
            "From the result of F-TEST, value of F is 1.36 with P close to 0, so H0 is rejected because P value is less than 0.05.\n"
          ]
        }
      ]
    },
    {
      "cell_type": "code",
      "source": [
        "#T-Test\n",
        "Ttest=scipy.stats.ttest_ind(Male,Female, equal_var=False)\n",
        "print(Ttest)\n",
        "print(\"\\n\")\n",
        "print(\"From the result of T-TEST, value of T is 2.1 with P value is 0.036, so H0 is rejected because P value is less than 0.05.\")"
      ],
      "metadata": {
        "colab": {
          "base_uri": "https://localhost:8080/"
        },
        "id": "ZhEJl6JWgkN4",
        "outputId": "6113e27d-0b10-43e6-9779-2aae34b5b102"
      },
      "execution_count": null,
      "outputs": [
        {
          "output_type": "stream",
          "name": "stdout",
          "text": [
            "Ttest_indResult(statistic=2.1008878232359565, pvalue=0.035841014956016645)\n",
            "\n",
            "\n",
            "From the result of T-TEST, value of T is 2.1 with P value is 0.036, so H0 is rejected because P value is less than 0.05.\n"
          ]
        }
      ]
    }
  ]
}